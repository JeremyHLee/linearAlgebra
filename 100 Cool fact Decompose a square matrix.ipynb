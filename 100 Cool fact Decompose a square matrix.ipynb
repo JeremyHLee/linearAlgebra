{
 "cells": [
  {
   "cell_type": "markdown",
   "id": "347085d5",
   "metadata": {},
   "source": [
    "# <p>Any arbitrary <span style=\"color: red;\">*square*</span> matrix may be decomposed into a symmetric and antisymmetric pair. S and A</p>\n",
    "\n",
    "Let's consider\n",
    "\n",
    "$$\n",
    "M = \\begin{pmatrix}\n",
    "  1 & 2 & 3 \\\\\n",
    "  4 & 5 & 6 \\\\\n",
    "  7 & 8 & 9\n",
    "\\end{pmatrix}\n",
    "$$"
   ]
  },
  {
   "cell_type": "markdown",
   "id": "0c0b5679",
   "metadata": {},
   "source": [
    "This formula takes a sum and a difference or M and its transpose, then it will hold true for:\n",
    "$$\n",
    "M = \\frac{1}{2}(M+M^T) + \\frac{1}{2}(M-M^T)\n",
    "$$\n",
    "\n",
    "$$\n",
    "M = S + A\n",
    "$$"
   ]
  },
  {
   "cell_type": "markdown",
   "id": "4b824a07",
   "metadata": {},
   "source": [
    "## Let's try this"
   ]
  },
  {
   "cell_type": "code",
   "execution_count": 1,
   "id": "909c285b",
   "metadata": {},
   "outputs": [],
   "source": [
    "import numpy as np"
   ]
  },
  {
   "cell_type": "code",
   "execution_count": 5,
   "id": "32403649",
   "metadata": {},
   "outputs": [],
   "source": [
    "M = np.array([[1, 2, 3],\n",
    "              [4, 5, 6],\n",
    "              [7, 8, 9]])"
   ]
  },
  {
   "cell_type": "markdown",
   "id": "442680ce",
   "metadata": {},
   "source": [
    "Transpose M. This means we swap columns for rows and rows for columns."
   ]
  },
  {
   "cell_type": "code",
   "execution_count": 7,
   "id": "2c42c3bc",
   "metadata": {},
   "outputs": [
    {
     "name": "stdout",
     "output_type": "stream",
     "text": [
      "[[1 4 7]\n",
      " [2 5 8]\n",
      " [3 6 9]]\n"
     ]
    }
   ],
   "source": [
    "Mt = M.T\n",
    "print(Mt)"
   ]
  },
  {
   "cell_type": "markdown",
   "id": "352dd51b",
   "metadata": {},
   "source": [
    "Let's work through the formula.\n",
    "$$\n",
    "S = \\frac{1}{2}(M+M^T)\n",
    "$$"
   ]
  },
  {
   "cell_type": "code",
   "execution_count": 15,
   "id": "0448e8eb",
   "metadata": {},
   "outputs": [
    {
     "name": "stdout",
     "output_type": "stream",
     "text": [
      "[[1. 3. 5.]\n",
      " [3. 5. 7.]\n",
      " [5. 7. 9.]]\n"
     ]
    }
   ],
   "source": [
    "S = 1/2 * (M + Mt)\n",
    "print(S)"
   ]
  },
  {
   "cell_type": "markdown",
   "id": "922632c6",
   "metadata": {},
   "source": [
    "And now the other part of the formula\n",
    "$$\n",
    "A = \\frac{1}{2}(M-M^T)\n",
    "$$"
   ]
  },
  {
   "cell_type": "code",
   "execution_count": 16,
   "id": "4d38bfd4",
   "metadata": {},
   "outputs": [
    {
     "name": "stdout",
     "output_type": "stream",
     "text": [
      "[[ 0. -1. -2.]\n",
      " [ 1.  0. -1.]\n",
      " [ 2.  1.  0.]]\n"
     ]
    }
   ],
   "source": [
    "A = 1/2 * (M - Mt)\n",
    "print(A)"
   ]
  },
  {
   "cell_type": "markdown",
   "id": "b3c2e462",
   "metadata": {},
   "source": [
    "So...is this antisymmetric? It looks like it because all diagonal is zero, and the upper triangle is the negative of the lower triangle.\n",
    "A test function for this follows:"
   ]
  },
  {
   "cell_type": "code",
   "execution_count": 17,
   "id": "d193794e",
   "metadata": {},
   "outputs": [
    {
     "data": {
      "text/plain": [
       "True"
      ]
     },
     "execution_count": 17,
     "metadata": {},
     "output_type": "execute_result"
    }
   ],
   "source": [
    "def is_antisymmetric(matrix):\n",
    "    if matrix.shape[0] != matrix.shape[1]:\n",
    "        return False  # Not a square matrix\n",
    "    return np.allclose(matrix, -matrix.T)\n",
    "\n",
    "is_antisymmetric(A)"
   ]
  },
  {
   "cell_type": "markdown",
   "id": "4957ec79",
   "metadata": {},
   "source": [
    "### Let's add A to B to show that this really does equal M"
   ]
  },
  {
   "cell_type": "code",
   "execution_count": 12,
   "id": "e0c2d1ff",
   "metadata": {},
   "outputs": [
    {
     "name": "stdout",
     "output_type": "stream",
     "text": [
      "[[1. 2. 3.]\n",
      " [4. 5. 6.]\n",
      " [7. 8. 9.]]\n"
     ]
    }
   ],
   "source": [
    "print(A + B)"
   ]
  },
  {
   "cell_type": "code",
   "execution_count": 13,
   "id": "40fc77bd",
   "metadata": {},
   "outputs": [
    {
     "data": {
      "text/plain": [
       "array([[ True,  True,  True],\n",
       "       [ True,  True,  True],\n",
       "       [ True,  True,  True]])"
      ]
     },
     "execution_count": 13,
     "metadata": {},
     "output_type": "execute_result"
    }
   ],
   "source": [
    "(A + B ) == M"
   ]
  },
  {
   "cell_type": "markdown",
   "id": "f95ea300",
   "metadata": {},
   "source": [
    "## Why is this important and useful?\n",
    "* You can split a complex problem into two smaller problems and work on each A and B separately.\n",
    "* You know or will learn about eigenvectors and eigenvalues. It's a fact that *symmetric* matrices have special properties.\n",
    "    * Symmetric matrices have real eigenvalues.\n",
    "    * Symmetric matrices have orthogonal eigenvectors\n",
    "* In this context *real* means ordinary decimal numbers like 2.1 or -99\n",
    "    * This is in contrast to other kinds of numbers like complex numbers which have two components. A real number is scalar...meaning it grows or shrinks a *thing* without changing the overall internal relationship of the thing.\n",
    "* *orthogonal* means \"at right angles to\". However the concept extends from two dimentions into three and beyond. Although you can't visualise orthogonal axes in 5 dimensions, *orthogonality* in a five-dimensional space is a useful mathmematical construct."
   ]
  },
  {
   "cell_type": "markdown",
   "id": "9d871eb5",
   "metadata": {},
   "source": [
    "In fluid dynamics the stress tensor is symmetric and represents physical forces, and antisymmetric components can represent rotational components of motion."
   ]
  },
  {
   "cell_type": "markdown",
   "id": "251adac9",
   "metadata": {},
   "source": [
    "## For machine learning"
   ]
  },
  {
   "cell_type": "markdown",
   "id": "f4d15e52",
   "metadata": {},
   "source": [
    "Symmetric matrices often arise in the form of covariance matrices, which are used for understanding the relationship between variables. Decomposing matrices in this context can help in principal component analysis (PCA) and other techniques for dimensionality reduction."
   ]
  },
  {
   "cell_type": "markdown",
   "id": "e680a08a",
   "metadata": {},
   "source": [
    "## Optimisation problems"
   ]
  },
  {
   "cell_type": "markdown",
   "id": "a2458cad",
   "metadata": {},
   "source": [
    "Some algorithms are more efficient when applied to symmetric matrices, due to their reduced computational complexity."
   ]
  }
 ],
 "metadata": {
  "kernelspec": {
   "display_name": "Python 3",
   "language": "python",
   "name": "python3"
  },
  "language_info": {
   "codemirror_mode": {
    "name": "ipython",
    "version": 3
   },
   "file_extension": ".py",
   "mimetype": "text/x-python",
   "name": "python",
   "nbconvert_exporter": "python",
   "pygments_lexer": "ipython3",
   "version": "3.8.8"
  }
 },
 "nbformat": 4,
 "nbformat_minor": 5
}

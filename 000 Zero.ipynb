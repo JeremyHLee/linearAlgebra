{
 "cells": [
  {
   "cell_type": "markdown",
   "id": "2dc6dec5",
   "metadata": {},
   "source": [
    "# Nothing"
   ]
  },
  {
   "cell_type": "markdown",
   "id": "07efe94b",
   "metadata": {},
   "source": [
    "Nothing is a very important concept. Without nothing, we can't have finance, symmetry, balance or a great many theories and number systems.\n",
    "\n",
    "Just don't try to divide by zero.\n",
    "\n",
    "If you lived a few hundred years ago, talking about nothing (zero) could literally get your head chopped off."
   ]
  },
  {
   "cell_type": "markdown",
   "id": "3be3a860",
   "metadata": {},
   "source": [
    "Zero is neither positive or negative"
   ]
  },
  {
   "cell_type": "code",
   "execution_count": 6,
   "id": "dc32dfca",
   "metadata": {},
   "outputs": [],
   "source": [
    "import numpy as np"
   ]
  },
  {
   "cell_type": "code",
   "execution_count": 4,
   "id": "d243aaa3",
   "metadata": {},
   "outputs": [
    {
     "name": "stdout",
     "output_type": "stream",
     "text": [
      "0\n",
      "0\n"
     ]
    }
   ],
   "source": [
    "x = 0\n",
    "print(abs(x))\n",
    "print(-abs(x))"
   ]
  },
  {
   "cell_type": "markdown",
   "id": "7020d8f2",
   "metadata": {},
   "source": [
    "Compare with non-zero"
   ]
  },
  {
   "cell_type": "code",
   "execution_count": 5,
   "id": "d5735078",
   "metadata": {},
   "outputs": [
    {
     "name": "stdout",
     "output_type": "stream",
     "text": [
      "0\n",
      "-1\n"
     ]
    }
   ],
   "source": [
    "x = -1\n",
    "print(abs(0))\n",
    "print(-abs(x))"
   ]
  },
  {
   "cell_type": "markdown",
   "id": "a8e984b4",
   "metadata": {},
   "source": [
    "Zero is the average (mean) of the entire number line from -infinity to +infinity\n",
    "\n",
    "Zero is the average of -x to +x"
   ]
  },
  {
   "cell_type": "code",
   "execution_count": 10,
   "id": "a5bb6020",
   "metadata": {},
   "outputs": [
    {
     "data": {
      "text/plain": [
       "array([-10,  -9,  -8,  -7,  -6,  -5,  -4,  -3,  -2,  -1,   0,   1,   2,\n",
       "         3,   4,   5,   6,   7,   8,   9,  10])"
      ]
     },
     "execution_count": 10,
     "metadata": {},
     "output_type": "execute_result"
    }
   ],
   "source": [
    "integer_symmetry = np.arange(-x, x + 1)\n",
    "integer_symmetry"
   ]
  },
  {
   "cell_type": "code",
   "execution_count": 11,
   "id": "5ab2d9a6",
   "metadata": {},
   "outputs": [
    {
     "data": {
      "text/plain": [
       "0.0"
      ]
     },
     "execution_count": 11,
     "metadata": {},
     "output_type": "execute_result"
    }
   ],
   "source": [
    "integer_symmetry.mean()"
   ]
  },
  {
   "cell_type": "markdown",
   "id": "a344c481",
   "metadata": {},
   "source": [
    "We must be careful with numpy. Note how the mean is returned as a floating point number. In this case it is exactly 0.0"
   ]
  },
  {
   "cell_type": "markdown",
   "id": "d8eb2188",
   "metadata": {},
   "source": [
    "Is 0.0 (floating point) different to 0 (integer)?"
   ]
  },
  {
   "cell_type": "code",
   "execution_count": 12,
   "id": "943b30b8",
   "metadata": {},
   "outputs": [
    {
     "data": {
      "text/plain": [
       "True"
      ]
     },
     "execution_count": 12,
     "metadata": {},
     "output_type": "execute_result"
    }
   ],
   "source": [
    "0 == 0.0"
   ]
  },
  {
   "cell_type": "markdown",
   "id": "f3577f17",
   "metadata": {},
   "source": [
    "Python thinks so. But mathematically, 0 (the integer) is zero for the set of integers and the number system operating with integers, such that operations on these integers result also in an integer. 0.0 belongs to the set of real numbers (in computers - these are represented as floating point numbers).\n",
    "\n",
    "In practical terms, 0 (integer) coincides with 0.0 (floating point)\n",
    "\n",
    "But this is not always the case. Computers cannot represent -infinity to +infinity and so we have to deal with approximations. In some cases the approximations are exact. In others the approximation is incredibly close. However, \"close\" is not \"the same\". So when we are comparing the output from a computation that yields floating point numbers, we cannot rely on an exact match.\n",
    "\n",
    "This is very important in numerical computation.\n",
    "\n",
    "# Python is dynamically typed...meaning that it infers the number system (or other type like string) at run time.\n",
    "This is brilliant! But it's terrible. Go internet and find out why."
   ]
  },
  {
   "cell_type": "code",
   "execution_count": 33,
   "id": "27f68806",
   "metadata": {},
   "outputs": [
    {
     "data": {
      "text/plain": [
       "float"
      ]
     },
     "execution_count": 33,
     "metadata": {},
     "output_type": "execute_result"
    }
   ],
   "source": [
    "type(0.0)  "
   ]
  },
  {
   "cell_type": "code",
   "execution_count": 34,
   "id": "8cb678e5",
   "metadata": {},
   "outputs": [
    {
     "data": {
      "text/plain": [
       "int"
      ]
     },
     "execution_count": 34,
     "metadata": {},
     "output_type": "execute_result"
    }
   ],
   "source": [
    "type(0)"
   ]
  },
  {
   "cell_type": "code",
   "execution_count": 13,
   "id": "61958c0a",
   "metadata": {},
   "outputs": [
    {
     "data": {
      "text/plain": [
       "3.3333333333333335"
      ]
     },
     "execution_count": 13,
     "metadata": {},
     "output_type": "execute_result"
    }
   ],
   "source": [
    "10/3 # This is NOT 1/3. It's close...but it's definitely not one third."
   ]
  },
  {
   "cell_type": "markdown",
   "id": "d8b926c1",
   "metadata": {},
   "source": [
    "numpy lets you do \"close\" compares."
   ]
  },
  {
   "cell_type": "code",
   "execution_count": 27,
   "id": "2ac1b6c1",
   "metadata": {},
   "outputs": [
    {
     "data": {
      "text/plain": [
       "True"
      ]
     },
     "execution_count": 27,
     "metadata": {},
     "output_type": "execute_result"
    }
   ],
   "source": [
    "np.isclose(3.33333333, 10/3)"
   ]
  },
  {
   "cell_type": "code",
   "execution_count": 29,
   "id": "3a58b35d",
   "metadata": {},
   "outputs": [
    {
     "data": {
      "text/plain": [
       "False"
      ]
     },
     "execution_count": 29,
     "metadata": {},
     "output_type": "execute_result"
    }
   ],
   "source": [
    "np.isclose(3.3, 10/3)"
   ]
  },
  {
   "cell_type": "code",
   "execution_count": 32,
   "id": "e5ba5c64",
   "metadata": {},
   "outputs": [],
   "source": [
    "# help(np.isclose)  # Use this to get the details about np.isclose"
   ]
  },
  {
   "cell_type": "markdown",
   "id": "cea92bd1",
   "metadata": {},
   "source": [
    "isclose() has a parameter called atol which is the tolerance. It's sets the window for 'closeness'."
   ]
  },
  {
   "cell_type": "code",
   "execution_count": 35,
   "id": "8b176b80",
   "metadata": {},
   "outputs": [
    {
     "data": {
      "text/plain": [
       "True"
      ]
     },
     "execution_count": 35,
     "metadata": {},
     "output_type": "execute_result"
    }
   ],
   "source": [
    "np.isclose(0.0, 0.00000000001, atol=1e-8)"
   ]
  },
  {
   "cell_type": "code",
   "execution_count": 36,
   "id": "a23b5f88",
   "metadata": {},
   "outputs": [
    {
     "data": {
      "text/plain": [
       "False"
      ]
     },
     "execution_count": 36,
     "metadata": {},
     "output_type": "execute_result"
    }
   ],
   "source": [
    "np.isclose(0.0, 0.0000001, atol=1e-8)"
   ]
  },
  {
   "cell_type": "markdown",
   "id": "4f496069",
   "metadata": {},
   "source": [
    "1/3 is an example of a quotient (fractions). In number theory this is given the symbol:\n",
    "$$\n",
    "\\mathbb{Q}\n",
    "$$\n",
    "\n",
    "Here are some other number systems:\n",
    "$$\n",
    "\\text{Integers including negative integers, and zero:} \\mathbb{Z}\n",
    "$$\n",
    "$$\n",
    "\\text{Integers but positive integers only:} \\mathbb{Z}^+\n",
    "$$\n",
    "$$\n",
    "\\text{Real numbers (decimals):} \\mathbb{R}\n",
    "$$\n",
    "$$\n",
    "\\text{Complex numbers:} \\mathbb{C}\n",
    "$$"
   ]
  },
  {
   "cell_type": "code",
   "execution_count": 68,
   "id": "a0a5da62",
   "metadata": {},
   "outputs": [
    {
     "data": {
      "text/plain": [
       "0j"
      ]
     },
     "execution_count": 68,
     "metadata": {},
     "output_type": "execute_result"
    }
   ],
   "source": [
    "np.complex128(0)  # numpy way specifically for scalar type \n",
    "# (numpy deprecated np.complex(0,0))"
   ]
  },
  {
   "cell_type": "code",
   "execution_count": 42,
   "id": "65bfcf00",
   "metadata": {},
   "outputs": [
    {
     "data": {
      "text/plain": [
       "0j"
      ]
     },
     "execution_count": 42,
     "metadata": {},
     "output_type": "execute_result"
    }
   ],
   "source": [
    "complex(0,0) # recommended way...use the built-in function."
   ]
  },
  {
   "cell_type": "markdown",
   "id": "0e82244d",
   "metadata": {},
   "source": [
    "Side note: Mathematicians use i to label the 'imaginary' part of a complex number. Electronic engineers nabbed i for current (go figure!) so they use j instead. \n",
    "\n",
    "(j for 'imaginary'? oh well. Whatever).\n",
    "\n",
    "We computer nerds like to use i as a loop variable...which is stupid. Have you ever tried find/replace for the variable called i?"
   ]
  },
  {
   "cell_type": "markdown",
   "id": "4cb2e3d7",
   "metadata": {},
   "source": [
    "# Complex zero\n",
    "Complex numbers are TWO dimensional numbers. The real part is a horizontal line of real numbers extending from -infinity to +infinity, and the 'other' part is a vertical (orthogonal) line also of real numbers extending from -infinity to +infinity.\n",
    "\n",
    "It is with great regret that we call this vertical line a line of 'imaginary' numbers. They are no less or more real or imaginary than any other set of numbers. The name has historical reasons.\n",
    "\n",
    "A complex zero lies at the intersection of the real and imaginary axes."
   ]
  },
  {
   "cell_type": "code",
   "execution_count": 46,
   "id": "f84623f8",
   "metadata": {},
   "outputs": [
    {
     "data": {
      "image/png": "[encoded data removed]",
      "text/plain": [
       "<Figure size 432x288 with 1 Axes>"
      ]
     },
     "metadata": {
      "needs_background": "light"
     },
     "output_type": "display_data"
    }
   ],
   "source": [
    "import matplotlib.pyplot as plt\n",
    "\n",
    "real_range = [-10, 10]\n",
    "imag_range = [-10, 10]\n",
    "\n",
    "fig, ax = plt.subplots()\n",
    "\n",
    "ax.set_xlim(real_range)\n",
    "ax.set_ylim(imag_range)\n",
    "\n",
    "plt.axhline(y=0, color='k')  # Imaginary axis\n",
    "plt.axvline(x=0, color='k')  # Real axis\n",
    "\n",
    "plt.plot(0, 0, marker='o', markersize=10, color='red')\n",
    "\n",
    "plt.xlabel('Real Part')\n",
    "plt.ylabel('Imaginary Part')\n",
    "plt.title('Argand Plane')\n",
    "\n",
    "plt.grid(True)\n",
    "plt.show() "
   ]
  },
  {
   "cell_type": "markdown",
   "id": "b45b7fcf",
   "metadata": {},
   "source": [
    "# higher dimensions\n",
    "Complex numbers are a special case, treated with special syntax and notation in a number system all its own. However, we can add a third orthogonal axis and still visualise zero in a three dimensional system."
   ]
  },
  {
   "cell_type": "code",
   "execution_count": 47,
   "id": "02554ce0",
   "metadata": {},
   "outputs": [
    {
     "data": {
      "image/png": "[encoded data removed]",
      "text/plain": [
       "<Figure size 432x288 with 1 Axes>"
      ]
     },
     "metadata": {
      "needs_background": "light"
     },
     "output_type": "display_data"
    }
   ],
   "source": [
    "import matplotlib.pyplot as plt\n",
    "from mpl_toolkits.mplot3d import Axes3D\n",
    "\n",
    "# Creating a 3D plot\n",
    "fig = plt.figure()\n",
    "ax = fig.add_subplot(111, projection='3d')\n",
    "\n",
    "# Setting the range for the axes\n",
    "ax.set_xlim([-10, 10])\n",
    "ax.set_ylim([-10, 10])\n",
    "ax.set_zlim([-10, 10])\n",
    "\n",
    "ax.set_xlabel('Real Part')\n",
    "ax.set_ylabel('Imaginary Part')\n",
    "ax.set_zlabel('Additional Dimension')\n",
    "ax.set_title('3D')\n",
    "\n",
    "# Placing a marker at (0 + i0)\n",
    "ax.scatter([0], [0], [0], color=\"red\", s=50)  # s is the size of the point\n",
    "\n",
    "\n",
    "ax.plot([-10, 10], [0, 0], [0, 0], color=\"black\")  # Real axis\n",
    "ax.plot([0, 0], [-10, 10], [0, 0], color=\"black\")  # Imaginary axis\n",
    "ax.plot([0, 0], [0, 0], [-10, 10], color=\"black\")  # Additional axis\n",
    "\n",
    "# Show the plot\n",
    "plt.show()\n",
    "\n"
   ]
  },
  {
   "cell_type": "markdown",
   "id": "352236c9",
   "metadata": {},
   "source": [
    "Note how zero still has that special spot. However it's not strictly the same zero as 0, 0.0, 0 + i0 because now we have three dimensions.\n",
    "\n",
    "numpy has a specific way to generate any type of zero with any number of dimensions."
   ]
  },
  {
   "cell_type": "code",
   "execution_count": 63,
   "id": "160f5e91",
   "metadata": {},
   "outputs": [
    {
     "name": "stdout",
     "output_type": "stream",
     "text": [
      "\n",
      "zero\n",
      " []\n",
      "\n",
      "zero zero\n",
      " []\n",
      "\n",
      "zero, something else\n",
      " []\n",
      "\n",
      "something else, zero\n",
      " []\n",
      "\n",
      "1D zero\n",
      " [0.]\n",
      "\n",
      "1x1 zero\n",
      " [[0.]]\n",
      "\n",
      "2D zero\n",
      " [[0. 0.]\n",
      " [0. 0.]]\n",
      "\n",
      "5D zero\n",
      " [[0. 0. 0. 0. 0.]\n",
      " [0. 0. 0. 0. 0.]\n",
      " [0. 0. 0. 0. 0.]\n",
      " [0. 0. 0. 0. 0.]\n",
      " [0. 0. 0. 0. 0.]]\n"
     ]
    }
   ],
   "source": [
    "print('\\nzero\\n', np.zeros((0)))\n",
    "print('\\nzero zero\\n', np.zeros((0, 0)))\n",
    "print('\\nzero, something else\\n', np.zeros((0,10)))\n",
    "print('\\nsomething else, zero\\n', np.zeros((10,0)))\n",
    "print('\\n1D zero\\n', np.zeros((1)))\n",
    "print('\\n1x1 zero\\n', np.zeros((1,1)))\n",
    "print('\\n2D zero\\n', np.zeros((2,2)))\n",
    "print('\\n5D zero\\n', np.zeros((5, 5)))"
   ]
  },
  {
   "cell_type": "markdown",
   "id": "bc14e688",
   "metadata": {},
   "source": [
    "Note the different output 1D zero is [0.] while the 1x1 zero is [[0.]]\n",
    "\n",
    "The difference is significant because the 1D zero has a different \"shape\" to the 1x1 zero."
   ]
  },
  {
   "cell_type": "code",
   "execution_count": 64,
   "id": "14d40764",
   "metadata": {},
   "outputs": [
    {
     "data": {
      "text/plain": [
       "(1,)"
      ]
     },
     "execution_count": 64,
     "metadata": {},
     "output_type": "execute_result"
    }
   ],
   "source": [
    "np.zeros((1)).shape"
   ]
  },
  {
   "cell_type": "code",
   "execution_count": 65,
   "id": "c3825076",
   "metadata": {},
   "outputs": [
    {
     "data": {
      "text/plain": [
       "(1, 1)"
      ]
     },
     "execution_count": 65,
     "metadata": {},
     "output_type": "execute_result"
    }
   ],
   "source": [
    "np.zeros((1, 1)).shape"
   ]
  },
  {
   "cell_type": "code",
   "execution_count": 67,
   "id": "41f74840",
   "metadata": {},
   "outputs": [],
   "source": [
    "# help(np.shape)"
   ]
  },
  {
   "cell_type": "markdown",
   "id": "6cb6221d",
   "metadata": {},
   "source": [
    "# I bet you didn't think there was so much to know about nothing."
   ]
  },
  {
   "cell_type": "markdown",
   "id": "37d3fae7",
   "metadata": {},
   "source": [
    "The shape of a matrix array doesn't need to be square. We can have a row-vector of zero values, a column-vector of zero values, and a rectangular array (matrix) of zero numbers"
   ]
  },
  {
   "cell_type": "code",
   "execution_count": 83,
   "id": "3e127327",
   "metadata": {},
   "outputs": [
    {
     "name": "stdout",
     "output_type": "stream",
     "text": [
      "[[0. 0. 0. 0. 0. 0. 0. 0. 0. 0.]]\n",
      "[[0.]\n",
      " [0.]\n",
      " [0.]\n",
      " [0.]\n",
      " [0.]\n",
      " [0.]\n",
      " [0.]\n",
      " [0.]\n",
      " [0.]\n",
      " [0.]]\n"
     ]
    }
   ],
   "source": [
    "print(np.zeros((1,10))) # row\n",
    "print(np.zeros((10,1))) # column"
   ]
  },
  {
   "cell_type": "code",
   "execution_count": 87,
   "id": "b850a7a2",
   "metadata": {},
   "outputs": [
    {
     "name": "stdout",
     "output_type": "stream",
     "text": [
      "[[0. 0. 0.]\n",
      " [0. 0. 0.]\n",
      " [0. 0. 0.]\n",
      " [0. 0. 0.]\n",
      " [0. 0. 0.]\n",
      " [0. 0. 0.]\n",
      " [0. 0. 0.]\n",
      " [0. 0. 0.]\n",
      " [0. 0. 0.]\n",
      " [0. 0. 0.]]\n"
     ]
    }
   ],
   "source": [
    "print(np.zeros((10, 3)))"
   ]
  },
  {
   "cell_type": "markdown",
   "id": "46699f7d",
   "metadata": {},
   "source": [
    "All of these \"zeros\" coincide. That's what makes zero so special."
   ]
  },
  {
   "cell_type": "markdown",
   "id": "50857660",
   "metadata": {},
   "source": [
    "## A special notation\n",
    "(again!)\n",
    "\n",
    "The set of ALL matrix zeros might be denoted\n",
    "$$\n",
    "\\mathbb{0}\n",
    "$$\n",
    "(There is no universal agreement on how to represent it)"
   ]
  },
  {
   "cell_type": "markdown",
   "id": "03f08b09",
   "metadata": {},
   "source": [
    "To use scary mathematical legal-speak:\n",
    "$$\n",
    "\\text{Let } \\mathcal{Z}_{m,n} \\text{ be the set of all } m \\times n \\text{ zero matrices. Then, } \n",
    "\\mathcal{Z}_{m,n} = \\{ M \\mid M \\text{ is an } m \\times n \\text{ matrix and all elements of } M \\text{ are zero} \\}.\n",
    "$$"
   ]
  },
  {
   "cell_type": "markdown",
   "id": "62dea0d6",
   "metadata": {},
   "source": [
    "## Another nothing\n",
    "Another kind of nothing is the null set which is like an empty box. It 'exists' but you haven't put anything in it. The null set has no shape, and therfore no dimension.\n",
    "\n",
    "The null set is a subset of...well...everything. Don't treat it like a number. Don't use it with addition or multiplication.\n",
    "\n",
    "The NULL SET belongs to set-theory, and the ZERO MATRIX belongs to linear algebra."
   ]
  },
  {
   "cell_type": "markdown",
   "id": "8fa612c6",
   "metadata": {},
   "source": [
    "## One more thing...\n",
    "In python and numpy, and the data anlysis tool pandas, an object that it undefinable is given the floating point \"value\" np.nan. It means \"Not a number\". We can make some of these by doing what you are not allowed to do: divide by zero:"
   ]
  },
  {
   "cell_type": "code",
   "execution_count": 88,
   "id": "e86c9af4",
   "metadata": {},
   "outputs": [],
   "source": [
    "my_bumper_book_of_zeros = np.zeros((10,10))"
   ]
  },
  {
   "cell_type": "code",
   "execution_count": 89,
   "id": "e416dadf",
   "metadata": {},
   "outputs": [
    {
     "name": "stdout",
     "output_type": "stream",
     "text": [
      "[[0. 0. 0. 0. 0. 0. 0. 0. 0. 0.]\n",
      " [0. 0. 0. 0. 0. 0. 0. 0. 0. 0.]\n",
      " [0. 0. 0. 0. 0. 0. 0. 0. 0. 0.]\n",
      " [0. 0. 0. 0. 0. 0. 0. 0. 0. 0.]\n",
      " [0. 0. 0. 0. 0. 0. 0. 0. 0. 0.]\n",
      " [0. 0. 0. 0. 0. 0. 0. 0. 0. 0.]\n",
      " [0. 0. 0. 0. 0. 0. 0. 0. 0. 0.]\n",
      " [0. 0. 0. 0. 0. 0. 0. 0. 0. 0.]\n",
      " [0. 0. 0. 0. 0. 0. 0. 0. 0. 0.]\n",
      " [0. 0. 0. 0. 0. 0. 0. 0. 0. 0.]]\n"
     ]
    }
   ],
   "source": [
    "print(my_bumper_book_of_zeros)"
   ]
  },
  {
   "cell_type": "code",
   "execution_count": 90,
   "id": "808b7d79",
   "metadata": {},
   "outputs": [
    {
     "name": "stdout",
     "output_type": "stream",
     "text": [
      "[[nan nan nan nan nan nan nan nan nan nan]\n",
      " [nan nan nan nan nan nan nan nan nan nan]\n",
      " [nan nan nan nan nan nan nan nan nan nan]\n",
      " [nan nan nan nan nan nan nan nan nan nan]\n",
      " [nan nan nan nan nan nan nan nan nan nan]\n",
      " [nan nan nan nan nan nan nan nan nan nan]\n",
      " [nan nan nan nan nan nan nan nan nan nan]\n",
      " [nan nan nan nan nan nan nan nan nan nan]\n",
      " [nan nan nan nan nan nan nan nan nan nan]\n",
      " [nan nan nan nan nan nan nan nan nan nan]]\n"
     ]
    },
    {
     "name": "stderr",
     "output_type": "stream",
     "text": [
      "<ipython-input-90-358fb000a55f>:1: RuntimeWarning: invalid value encountered in true_divide\n",
      "  print(my_bumper_book_of_zeros / 0)\n"
     ]
    }
   ],
   "source": [
    "print(my_bumper_book_of_zeros / 0)"
   ]
  },
  {
   "cell_type": "markdown",
   "id": "ee97879a",
   "metadata": {},
   "source": [
    "BAT MAN!"
   ]
  }
 ],
 "metadata": {
  "kernelspec": {
   "display_name": "Python 3",
   "language": "python",
   "name": "python3"
  },
  "language_info": {
   "codemirror_mode": {
    "name": "ipython",
    "version": 3
   },
   "file_extension": ".py",
   "mimetype": "text/x-python",
   "name": "python",
   "nbconvert_exporter": "python",
   "pygments_lexer": "ipython3",
   "version": "3.8.8"
  }
 },
 "nbformat": 4,
 "nbformat_minor": 5
}
